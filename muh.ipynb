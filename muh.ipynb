{
 "cells": [
  {
   "cell_type": "markdown",
   "metadata": {},
   "source": [
    "Let \\(X\\) be a random variable with probability density function \\(f(x)\\) and cumulative distribution function:\n",
    "\n",
    "\\[\n",
    "F(x) = \\int_{-\\infty}^{x} f(t)\\, dt.\n",
    "\\]\n",
    "\n",
    "Define the \\(\\alpha\\)-quantile (or Value-at-Risk at level \\(\\alpha\\)) as:\n",
    "\n",
    "\\[\n",
    "q_\\alpha = \\inf\\{x : F(x) \\ge \\alpha\\} = F^{-1}(\\alpha),\n",
    "\\]\n",
    "\n",
    "and the tail mean (or expected shortfall) as:\n",
    "\n",
    "\\[\n",
    "\\text{Tail Mean} = \\frac{1}{\\alpha}\\int_{-\\infty}^{q_\\alpha} x\\, f(x)\\, dx.\n",
    "\\]\n",
    "\n",
    "We now show that this tail mean is equivalent to:\n",
    "\n",
    "\\[\n",
    "\\frac{1}{\\alpha}\\int_{0}^{\\alpha} Q(u)\\, du,\n",
    "\\]\n",
    "\n",
    "where the quantile function is defined as \\(Q(u) = F^{-1}(u)\\).\n",
    "\n",
    "---\n",
    "\n",
    "### Proof\n",
    "\n",
    "Let \n",
    "\n",
    "\\[u = F(x).\\]\n",
    "\n",
    "Then, by definition of the quantile function, we have\n",
    "\n",
    "\\[x = Q(u).\\]\n",
    "\n",
    "Differentiating \\(u = F(x)\\) with respect to \\(x\\) yields:\n",
    "\n",
    "\\[\n",
    "du = f(x)\\, dx \\quad \\Longrightarrow \\quad dx = \\frac{du}{f(x)}.\n",
    "\\]\n",
    "\n",
    "As \\(x\\) varies from \\(-\\infty\\) to \\(q_\\alpha\\), the variable \\(u\\) varies from:\n",
    "\n",
    "\\[u = F(-\\infty) = 0 \\quad \\text{to} \\quad u = F(q_\\alpha) = \\alpha.\\]\n",
    "\n",
    "Substitute \\(x = Q(u)\\) and \\(dx = \\frac{du}{f(Q(u))}\\) into the original integral:\n",
    "\n",
    "\\[\n",
    "\\int_{-\\infty}^{q_\\alpha} x\\, f(x)\\, dx = \\int_{0}^{\\alpha} Q(u)\\, f(Q(u)) \\frac{du}{f(Q(u))}.\n",
    "\\]\n",
    "\n",
    "The density terms \\(f(Q(u))\\) cancel, leaving:\n",
    "\n",
    "\\[\n",
    "\\int_{-\\infty}^{q_\\alpha} x\\, f(x)\\, dx = \\int_{0}^{\\alpha} Q(u)\\, du.\n",
    "\\]\n",
    "\n",
    "Finally, dividing both sides by \\(\\alpha\\) gives the desired result:\n",
    "\n",
    "\\[\n",
    "\\frac{1}{\\alpha}\\int_{-\\infty}^{q_\\alpha} x\\, f(x)\\, dx = \\frac{1}{\\alpha}\\int_{0}^{\\alpha} Q(u)\\, du.\n",
    "\\]\n",
    "\n",
    "This completes the proof.\n",
    "\n"
   ]
  },
  {
   "cell_type": "code",
   "execution_count": null,
   "metadata": {
    "vscode": {
     "languageId": "plaintext"
    }
   },
   "outputs": [],
   "source": []
  }
 ],
 "metadata": {
  "language_info": {
   "name": "python"
  }
 },
 "nbformat": 4,
 "nbformat_minor": 2
}
